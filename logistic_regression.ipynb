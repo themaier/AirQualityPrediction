{
 "cells": [
  {
   "cell_type": "code",
   "execution_count": null,
   "metadata": {},
   "outputs": [],
   "source": [
    "!pip install ucimlrepo pandas numpy scikit-learn"
   ]
  },
  {
   "cell_type": "code",
   "execution_count": null,
   "metadata": {},
   "outputs": [],
   "source": [
    "# ------- Import Dataset -------------------\n",
    "\n",
    "from ucimlrepo import fetch_ucirepo\n",
    "\n",
    "# fetch dataset\n",
    "air_quality = fetch_ucirepo(id=360)\n",
    "\n",
    "# data (as pandas dataframes)\n",
    "X = air_quality.data.features\n",
    "y = air_quality.data.targets # unused?\n",
    "\n",
    "# Combine Date and Time into a single DateTime column -> only 14 features\n",
    "import pandas as pd\n",
    "import numpy as np\n",
    "\n",
    "X['DateTime'] = pd.to_datetime(X['Date'] + ' ' + X['Time']) # Format (JJJJ-MM-DD HH:MM:SS, e.g.: 2004-03-10 18:00:00)\n",
    "X = X.set_index('DateTime')\n",
    "X.drop(['Date', 'Time'], axis=1, inplace=True)  # Remove the original Date and Time columns\n",
    "X.replace(-200, np.nan, inplace=True)\n",
    "X.replace(-200.0, np.nan, inplace=True)"
   ]
  },
  {
   "cell_type": "code",
   "execution_count": null,
   "metadata": {},
   "outputs": [],
   "source": [
    "import pandas as pd\n",
    "from sklearn.model_selection import train_test_split\n",
    "from sklearn.linear_model import LogisticRegression\n",
    "import numpy as np\n",
    "\n",
    "# Example DataFrame 'df' with a time series column 'value'\n",
    "\n",
    "# Create lagged features\n",
    "df['lag_1'] = X['CO(GT)'].shift(1)\n",
    "df['lag_2'] = X['CO(GT)'].shift(2)\n",
    "# ... more lags as needed\n",
    "\n",
    "# Create a binary target variable: 1 if value increased, 0 if decreased\n",
    "df['target'] = np.where(df['CO(GT)'] > df['CO(GT)'].shift(1), 1, 0)\n",
    "\n",
    "# Drop missing values created by lagging\n",
    "df.dropna(inplace=True)\n",
    "\n",
    "# Features and target\n",
    "X2 = df[['lag_1', 'lag_2']]  # and any additional lag features\n",
    "y = df['target']\n",
    "\n",
    "# Split into training and testing sets\n",
    "X_train, X_test, y_train, y_test = train_test_split(X2, y, test_size=0.2, shuffle=False)\n",
    "\n",
    "# Logistic Regression Model\n",
    "model = LogisticRegression()\n",
    "model.fit(X_train, y_train)\n",
    "\n",
    "# Make predictions\n",
    "predictions = model.predict(X_test)"
   ]
  },
  {
   "cell_type": "code",
   "execution_count": null,
   "metadata": {},
   "outputs": [],
   "source": [
    "import matplotlib.pyplot as plt\n",
    "\n",
    "predictions = []\n",
    "\n",
    "# Walk-forward validation\n",
    "for i in range(len(X_test)):\n",
    "    current_prediction = model.predict(X_test.iloc[i].to_numpy().reshape(1, -1))\n",
    "    predictions.append(current_prediction[0])\n",
    "\n",
    "# Create a time index for the predictions\n",
    "prediction_dates = df.index[-len(predictions):]\n",
    "\n",
    "plt.figure(figsize=(15, 4))\n",
    "plt.plot(prediction_dates, predictions, label='Predictions')\n",
    "plt.title('Binary Predictions for Future Values')\n",
    "plt.xlabel('Date')\n",
    "plt.ylabel('Predicted Class')\n",
    "plt.legend()\n",
    "plt.show()"
   ]
  }
 ],
 "metadata": {
  "kernelspec": {
   "display_name": "Python 3",
   "language": "python",
   "name": "python3"
  },
  "language_info": {
   "codemirror_mode": {
    "name": "ipython",
    "version": 3
   },
   "file_extension": ".py",
   "mimetype": "text/x-python",
   "name": "python",
   "nbconvert_exporter": "python",
   "pygments_lexer": "ipython3",
   "version": "3.10.11"
  }
 },
 "nbformat": 4,
 "nbformat_minor": 2
}
